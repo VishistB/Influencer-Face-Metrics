{
 "cells": [
  {
   "cell_type": "code",
   "execution_count": 3,
   "metadata": {},
   "outputs": [
    {
     "name": "stdout",
     "output_type": "stream",
     "text": [
      "/home/vishist/coding/Startup_Assignments/FuelGrowth/Influencer-Face-Metrics/Jupyter_notebooks\n",
      "Face detection and extraction completed!\n"
     ]
    }
   ],
   "source": [
    "import os\n",
    "import cv2\n",
    "from pathlib import Path\n",
    "\n",
    "# Paths\n",
    "BASE_FOLDER=os.getcwd()\n",
    "print(BASE_FOLDER)\n",
    "UNIQUE_VIDEOS_FOLDER = BASE_FOLDER+\"/unique_videos\"\n",
    "UNIQUE_PERFORMANCE_FOLDER = BASE_FOLDER+\"/unique_performances\"\n",
    "INFLUENCER_FACE_DATA = BASE_FOLDER+\"/influencer_face_data\"\n",
    "FACE_IMG_FOLDER = os.path.join(INFLUENCER_FACE_DATA, \"face_img\")\n",
    "FACE_SCORE_FOLDER = os.path.join(INFLUENCER_FACE_DATA, \"face_score\")\n",
    "\n",
    "# Create directories if they don't exist\n",
    "os.makedirs(FACE_IMG_FOLDER, exist_ok=True)\n",
    "os.makedirs(FACE_SCORE_FOLDER, exist_ok=True)\n",
    "\n",
    "# Load a pre-trained face detection model (Haar cascade for simplicity)\n",
    "face_cascade = cv2.CascadeClassifier(cv2.data.haarcascades + \"haarcascade_frontalface_default.xml\")\n",
    "\n",
    "# Process each video in unique_videos\n",
    "for video_file in os.listdir(UNIQUE_VIDEOS_FOLDER):\n",
    "    video_path = os.path.join(UNIQUE_VIDEOS_FOLDER, video_file)\n",
    "    performance_file = os.path.join(UNIQUE_PERFORMANCE_FOLDER, f\"{Path(video_file).stem}.txt\")\n",
    "    \n",
    "    # Skip if performance file doesn't exist\n",
    "    if not os.path.exists(performance_file):\n",
    "        print(f\"Performance file missing for {video_file}. Skipping...\")\n",
    "        continue\n",
    "\n",
    "    # Read the performance score\n",
    "    with open(performance_file, \"r\") as pf:\n",
    "        performance_score = pf.read().strip()\n",
    "\n",
    "    # Open video file\n",
    "    cap = cv2.VideoCapture(video_path)\n",
    "    frame_count = 0\n",
    "    face_count = 0\n",
    "\n",
    "    while True:\n",
    "        ret, frame = cap.read()\n",
    "        if not ret:\n",
    "            break\n",
    "\n",
    "        frame_count += 1\n",
    "\n",
    "        # Convert frame to grayscale for face detection\n",
    "        gray = cv2.cvtColor(frame, cv2.COLOR_BGR2GRAY)\n",
    "\n",
    "        # Detect faces\n",
    "        faces = face_cascade.detectMultiScale(gray, scaleFactor=1.1, minNeighbors=5, minSize=(30, 30))\n",
    "\n",
    "        for (x, y, w, h) in faces:\n",
    "            # Extract face from frame\n",
    "            face = frame[y:y+h, x:x+w]\n",
    "\n",
    "            # Save face image\n",
    "            face_img_name = f\"{Path(video_file).stem}_frame{frame_count}_face{face_count}.jpg\"\n",
    "            face_img_path = os.path.join(FACE_IMG_FOLDER, face_img_name)\n",
    "            cv2.imwrite(face_img_path, face)\n",
    "\n",
    "            # Save performance score\n",
    "            face_score_path = os.path.join(FACE_SCORE_FOLDER, f\"{Path(face_img_name).stem}.txt\")\n",
    "            with open(face_score_path, \"w\") as sf:\n",
    "                sf.write(performance_score)\n",
    "\n",
    "            face_count += 1\n",
    "\n",
    "    cap.release()\n",
    "\n",
    "print(\"Face detection and extraction completed!\")\n"
   ]
  }
 ],
 "metadata": {
  "kernelspec": {
   "display_name": "base",
   "language": "python",
   "name": "python3"
  },
  "language_info": {
   "codemirror_mode": {
    "name": "ipython",
    "version": 3
   },
   "file_extension": ".py",
   "mimetype": "text/x-python",
   "name": "python",
   "nbconvert_exporter": "python",
   "pygments_lexer": "ipython3",
   "version": "3.12.4"
  }
 },
 "nbformat": 4,
 "nbformat_minor": 2
}
