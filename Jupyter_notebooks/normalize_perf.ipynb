{
 "cells": [
  {
   "cell_type": "code",
   "execution_count": 1,
   "metadata": {},
   "outputs": [
    {
     "name": "stdout",
     "output_type": "stream",
     "text": [
      "Normalization complete! All scores are now between 0.0 and 1.0.\n"
     ]
    }
   ],
   "source": [
    "import os\n",
    "from pathlib import Path\n",
    "\n",
    "# Define path to unique_performance folder\n",
    "BASE_FOLDER=os.getcwd()\n",
    "UNIQUE_PERFORMANCE_FOLDER = BASE_FOLDER+\"/unique_performances\"\n",
    "\n",
    "# Read all performance scores\n",
    "performance_scores = {}\n",
    "for file in os.listdir(UNIQUE_PERFORMANCE_FOLDER):\n",
    "    file_path = os.path.join(UNIQUE_PERFORMANCE_FOLDER, file)\n",
    "    with open(file_path, \"r\") as f:\n",
    "        score = float(f.read().strip())\n",
    "        performance_scores[file] = score\n",
    "\n",
    "# Get the minimum and maximum scores\n",
    "min_score = min(performance_scores.values())\n",
    "max_score = max(performance_scores.values())\n",
    "\n",
    "# Handle edge case: if all scores are the same, normalize them to 1.0\n",
    "if min_score == max_score:\n",
    "    normalized_scores = {file: 1.0 for file in performance_scores}\n",
    "else:\n",
    "    # Normalize scores to the range [0.0, 1.0]\n",
    "    normalized_scores = {\n",
    "        file: (score - min_score) / (max_score - min_score)\n",
    "        for file, score in performance_scores.items()\n",
    "    }\n",
    "\n",
    "# Write normalized scores back to the files\n",
    "for file, normalized_score in normalized_scores.items():\n",
    "    file_path = os.path.join(UNIQUE_PERFORMANCE_FOLDER, file)\n",
    "    with open(file_path, \"w\") as f:\n",
    "        f.write(f\"{normalized_score:.6f}\")\n",
    "\n",
    "print(\"Normalization complete! All scores are now between 0.0 and 1.0.\")\n"
   ]
  }
 ],
 "metadata": {
  "kernelspec": {
   "display_name": "base",
   "language": "python",
   "name": "python3"
  },
  "language_info": {
   "codemirror_mode": {
    "name": "ipython",
    "version": 3
   },
   "file_extension": ".py",
   "mimetype": "text/x-python",
   "name": "python",
   "nbconvert_exporter": "python",
   "pygments_lexer": "ipython3",
   "version": "3.12.4"
  }
 },
 "nbformat": 4,
 "nbformat_minor": 2
}
